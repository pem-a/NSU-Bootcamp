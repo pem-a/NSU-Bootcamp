{
 "cells": [
  {
   "cell_type": "markdown",
   "metadata": {},
   "source": [
    "### Using Annotate - Unsolved Version"
   ]
  },
  {
   "cell_type": "code",
   "execution_count": 1,
   "metadata": {},
   "outputs": [],
   "source": [
    "%matplotlib inline"
   ]
  },
  {
   "cell_type": "code",
   "execution_count": 5,
   "metadata": {},
   "outputs": [],
   "source": [
    "# Import dependencies\n",
    "import matplotlib.pyplot as plt\n",
    "import numpy as np"
   ]
  },
  {
   "cell_type": "code",
   "execution_count": 6,
   "metadata": {},
   "outputs": [],
   "source": [
    "# Creating data  \n",
    "lap = np.arange(1, 26, 1)\n",
    "lap_time = np.array([59.160, 59.245, 59.092, 58.992, 58.745, 58.500, 58.654, 58.324, \n",
    "                     58.123, 57.876, 57.567, 57.231, 56.921, 57.123, 57.231, 57.453,\n",
    "                     57.092, 57.321, 57.456, 57.692, 57.872, 58.092, 58.123, 58.092,\n",
    "                     58.392])"
   ]
  },
  {
   "cell_type": "code",
   "execution_count": 7,
   "metadata": {},
   "outputs": [],
   "source": [
    "# Set axes (user discretion)\n",
    "\n",
    "# Create initial plot \n",
    "\n",
    "# Adding aesthetics (x and y labels, title, xticks 1,25,1)\n",
    "\n",
    "# Create a for loop to loop over x and y joined in pairs to extract labels\n",
    "\n",
    "    # First use of annotate fucntion to add labels to the line\n",
    "\n",
    "    # Second annotation to create an arrow \n",
    "\n",
    "    \n",
    "plt.show()"
   ]
  },
  {
   "cell_type": "code",
   "execution_count": 8,
   "metadata": {},
   "outputs": [
    {
     "data": {
      "text/plain": [
       "<Figure size 432x288 with 0 Axes>"
      ]
     },
     "metadata": {},
     "output_type": "display_data"
    }
   ],
   "source": [
    "plt.tight_layout()"
   ]
  },
  {
   "cell_type": "code",
   "execution_count": null,
   "metadata": {},
   "outputs": [],
   "source": []
  }
 ],
 "metadata": {
  "kernelspec": {
   "display_name": "Python 3",
   "language": "python",
   "name": "python3"
  },
  "language_info": {
   "codemirror_mode": {
    "name": "ipython",
    "version": 3
   },
   "file_extension": ".py",
   "mimetype": "text/x-python",
   "name": "python",
   "nbconvert_exporter": "python",
   "pygments_lexer": "ipython3",
   "version": "3.8.5"
  }
 },
 "nbformat": 4,
 "nbformat_minor": 4
}
