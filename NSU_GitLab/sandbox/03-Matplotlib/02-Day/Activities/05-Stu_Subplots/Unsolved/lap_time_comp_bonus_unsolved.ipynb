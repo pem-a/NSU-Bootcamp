{
 "cells": [
  {
   "cell_type": "markdown",
   "metadata": {},
   "source": [
    "### Formula 1 drivers lap time comparison - Using Subplot - Bonus - Unsolved Version\n",
    "\n",
    "* For this assignment, you will compare Formula 1 lap times recorded from Senna and Schumacher using `plt.sublot()`. \n",
    "\n",
    "#### Instructions:\n",
    "\n",
    "1. Use `plt.subplot()` to create a figure with 1x2 subplot layout & make the first subplot active.\n",
    "\n",
    "2. Plot the lap times recorded by Ayrton Senna. \n",
    "\n",
    "3. Use `plt.subplot()` again to make the second subplot active in the current 1x2 subplot grid.\n",
    "\n",
    "4. Plot the lap times recorded by Michael Schumacher. \n",
    "\n",
    "5. Add appropriated x and y labels.\n",
    "\n",
    "#### Bonus:\n",
    "\n",
    "6. Matplotlib comes with a number of different stylesheets to customize the overall look of different plots. For this bonus activity, activate a particular stylesheet according to your own research. "
   ]
  },
  {
   "cell_type": "code",
   "execution_count": 1,
   "metadata": {},
   "outputs": [],
   "source": [
    "%matplotlib notebook"
   ]
  },
  {
   "cell_type": "code",
   "execution_count": 2,
   "metadata": {},
   "outputs": [],
   "source": [
    "# Import dependencies\n",
    "import matplotlib.pyplot as plt\n",
    "import numpy as np"
   ]
  },
  {
   "cell_type": "markdown",
   "metadata": {},
   "source": [
    "#### BONUS"
   ]
  },
  {
   "cell_type": "code",
   "execution_count": 3,
   "metadata": {},
   "outputs": [],
   "source": [
    "# Add bonus here"
   ]
  },
  {
   "cell_type": "code",
   "execution_count": 4,
   "metadata": {},
   "outputs": [],
   "source": [
    "# Create data\n",
    "lap = np.arange(1, 26, 1)\n",
    "senna = np.array([59.160, 59.245, 59.092, 58.992, 58.745, 58.500, 58.654, 58.324, \n",
    "                     58.123, 57.876, 57.567, 57.231, 56.921, 57.123, 57.231, 57.453,\n",
    "                     57.092, 57.321, 57.456, 57.692, 57.872, 58.092, 58.123, 58.092,\n",
    "                     58.392])\n",
    "\n",
    "schumacher =np.array([59.912, 59.522, 59.499, 58.677, 58.745, 58.776, 58.512, 58.732, \n",
    "                     58.123, 57.876, 57.567, 57.231, 56.921, 57.123, 57.231, 57.432,\n",
    "                     57.8, 57.611, 57.922, 57.731, 57.235, 58.63, 58.31, 58.232,\n",
    "                     58.322])"
   ]
  },
  {
   "cell_type": "code",
   "execution_count": 5,
   "metadata": {},
   "outputs": [],
   "source": [
    "# Create a figure with 1x2 subplot and make the left subplot active"
   ]
  },
  {
   "cell_type": "code",
   "execution_count": 6,
   "metadata": {},
   "outputs": [],
   "source": [
    "# Plot Senna's lap times in red and add y and y labels"
   ]
  },
  {
   "cell_type": "code",
   "execution_count": 7,
   "metadata": {},
   "outputs": [],
   "source": [
    "# Create a figure with 1x2 subplot and make the right subplot active"
   ]
  },
  {
   "cell_type": "code",
   "execution_count": 8,
   "metadata": {},
   "outputs": [],
   "source": [
    "# Plot Schumacher's lap times in blue and add y and y labels"
   ]
  },
  {
   "cell_type": "code",
   "execution_count": 9,
   "metadata": {},
   "outputs": [],
   "source": [
    "# Use plt.tight_layout() to improve the spacing between subplots"
   ]
  },
  {
   "cell_type": "code",
   "execution_count": null,
   "metadata": {},
   "outputs": [],
   "source": []
  }
 ],
 "metadata": {
  "kernelspec": {
   "display_name": "Python 3",
   "language": "python",
   "name": "python3"
  },
  "language_info": {
   "codemirror_mode": {
    "name": "ipython",
    "version": 3
   },
   "file_extension": ".py",
   "mimetype": "text/x-python",
   "name": "python",
   "nbconvert_exporter": "python",
   "pygments_lexer": "ipython3",
   "version": "3.8.5"
  }
 },
 "nbformat": 4,
 "nbformat_minor": 4
}
