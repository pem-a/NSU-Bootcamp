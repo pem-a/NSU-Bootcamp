{
 "cells": [
  {
   "cell_type": "markdown",
   "metadata": {},
   "source": [
    "### Armed Forces Enlistment of Man Under 20 - Using annotate - Unsolved Version "
   ]
  },
  {
   "cell_type": "markdown",
   "metadata": {},
   "source": [
    "For this assignment you will annotate a simple plot to provide context. You will plot the enlistment of man under the age of 20 in the Army and in the Navy over time. Additionally, you will mark the inflection point when enlistment of man under 20 reached a peak and started declining using `plt.annotate()`.\n",
    "\n",
    "#### Instructions:\n",
    "\n",
    "1. Calculate the position for your annotation by finding the peak of man under the age of 20 enlisting the Army. \n",
    "\n",
    "2. Compute the maximum enlistment of man under the age of 20 (using the army array).\n",
    "\n",
    "3. Calculate the year in which there was the maximum enlistment of man under the age of 20 in the Army. \n",
    "\n",
    "   * **Note:** you will need to retrieve the index of the highest value in the army array using `.argmax()`, and then use this value to index the year array.\n",
    "\n",
    "4. Annotate the plot with a red arrow at the point of peak man under the age of 20 enlisting in the Army.\n",
    "\n",
    "5. Label the arrow 'Peak'. The parameter for this is a string, but you don’t have to specify it.\n",
    "\n",
    "6. Pass in the arguments to `xy` and `xytext` as tuples.\n",
    "\n",
    "7. For `xy`, use the `yr_max` and `army_max` that you computed.\n",
    "\n",
    "8. For `xytext`, use `(yr_max+5, army_max+5)` to specify the displacement of the label from the tip of the arrow.\n",
    "\n",
    "9. Draw the arrow by specifying the keyword argument `arrowprops=dict(facecolor='red')`. \n",
    "\n",
    "#### Hints:\n",
    "\n",
    "* See the [Matplotlib documentation for annotate](https://matplotlib.org/3.3.3/api/_as_gen/matplotlib.pyplot.annotate.html)."
   ]
  },
  {
   "cell_type": "code",
   "execution_count": 1,
   "metadata": {},
   "outputs": [],
   "source": [
    "%matplotlib notebook"
   ]
  },
  {
   "cell_type": "code",
   "execution_count": 2,
   "metadata": {},
   "outputs": [],
   "source": [
    "# Import dependencies\n",
    "import numpy as np\n",
    "import matplotlib.pyplot as plt"
   ]
  },
  {
   "cell_type": "code",
   "execution_count": 3,
   "metadata": {},
   "outputs": [],
   "source": [
    "# Create data for army, navy and years and assign them to a numpy array\n",
    "army = np.array([13.6, 13.6, 14.9, 16.4, 18.9, 19.8, 23.9, 25.7, 28.1, 30.2, 32.5,\n",
    "       34.8, 36.3, 37.1, 36.8, 35.7, 34.7, 32.4, 30.8, 29.9, 29.4, 28.7,\n",
    "       28.2, 28.5, 28.5, 27.5, 27.1, 26.8, 27. , 28.1, 27.7, 27.6, 27.,\n",
    "       25.1, 22.2, 20.6, 18.6, 17.6, 17.8, 18.1, 17.6, 18.2])\n",
    "\n",
    "navy = np.array([13.8, 14.9, 14.8, 16.5, 18.2, 19.1, 20., 21.3, 22.5, 23.7, 24.6,\n",
    "       25.7, 27.3, 27.6, 28. , 27.5, 28.4, 30.4, 29.7, 31.3, 31.6, 32.6,\n",
    "       32.6, 33.6, 34.8, 35.9, 37.3, 38.3, 39.7, 40.2, 41. , 42.2, 41.1,\n",
    "       41.7, 42.1, 41.6, 40.8, 40.7, 40.7, 40.7, 40.2, 40.1])\n",
    "\n",
    "year = np.array([1970, 1971, 1972, 1973, 1974, 1975, 1976, 1977, 1978, 1979, 1980,\n",
    "       1981, 1982, 1983, 1984, 1985, 1986, 1987, 1988, 1989, 1990, 1991,\n",
    "       1992, 1993, 1994, 1995, 1996, 1997, 1998, 1999, 2000, 2001, 2002,\n",
    "       2003, 2004, 2005, 2006, 2007, 2008, 2009, 2010, 2011])"
   ]
  },
  {
   "cell_type": "code",
   "execution_count": null,
   "metadata": {},
   "outputs": [],
   "source": [
    "indmax = army.argmax()\n",
    "nindmax = "
   ]
  },
  {
   "cell_type": "code",
   "execution_count": 6,
   "metadata": {},
   "outputs": [],
   "source": [
    "# Compute the maximum enlistment of man under the age of 20 in the army\n",
    "\n",
    "# Calculate the year in which there was a maximum enlistment of man under the age of 20 in the army"
   ]
  },
  {
   "cell_type": "code",
   "execution_count": 7,
   "metadata": {},
   "outputs": [],
   "source": [
    "# Plot with legends"
   ]
  },
  {
   "cell_type": "code",
   "execution_count": 8,
   "metadata": {},
   "outputs": [],
   "source": [
    "# Add a red arrow annotation"
   ]
  },
  {
   "cell_type": "code",
   "execution_count": 9,
   "metadata": {},
   "outputs": [],
   "source": [
    "# Add axis labels and title"
   ]
  },
  {
   "cell_type": "code",
   "execution_count": null,
   "metadata": {},
   "outputs": [],
   "source": []
  }
 ],
 "metadata": {
  "kernelspec": {
   "display_name": "Python 3",
   "language": "python",
   "name": "python3"
  },
  "language_info": {
   "codemirror_mode": {
    "name": "ipython",
    "version": 3
   },
   "file_extension": ".py",
   "mimetype": "text/x-python",
   "name": "python",
   "nbconvert_exporter": "python",
   "pygments_lexer": "ipython3",
   "version": "3.8.5"
  }
 },
 "nbformat": 4,
 "nbformat_minor": 4
}
