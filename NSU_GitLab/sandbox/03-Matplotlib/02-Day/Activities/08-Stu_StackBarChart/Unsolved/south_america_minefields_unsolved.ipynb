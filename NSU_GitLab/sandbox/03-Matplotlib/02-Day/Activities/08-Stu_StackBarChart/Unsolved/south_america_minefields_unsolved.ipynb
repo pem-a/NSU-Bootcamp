{
 "cells": [
  {
   "cell_type": "markdown",
   "metadata": {},
   "source": [
    "### Latin America Religions - Unsolved Version "
   ]
  },
  {
   "cell_type": "markdown",
   "metadata": {},
   "source": [
    "In this activity, you will create a Stacked Bar Chart for the number of minefields by mineral type located in 10 countries in South America.\n",
    "\n",
    "#### Instructions:\n",
    "\n",
    "1. Load the dataset into a pandas df and make sure to set index to column 0.\n",
    "\n",
    "2. Create a figure and axes object with figure size 8 inches by 10 inches.\n",
    "\n",
    "3. Add bars for \"iron ore\" with the label \"Iron Ore\".\n",
    "\n",
    "4. Stack bars for \"copper\" on top with label \"Copper\"\n",
    "\n",
    "5. Stack bars for \"gold\" on top of that with label \"Gold\".\n",
    "\n",
    "6. Rotating the tick labels vertically.\n",
    "\n",
    "7. Setting the y label.\n",
    "\n",
    "8. Display the legend.\n",
    "\n",
    "9. Use plt.tight_layout() to improve the spacing in the figure.  "
   ]
  },
  {
   "cell_type": "code",
   "execution_count": 1,
   "metadata": {},
   "outputs": [],
   "source": [
    "%matplotlib notebook"
   ]
  },
  {
   "cell_type": "code",
   "execution_count": 2,
   "metadata": {},
   "outputs": [],
   "source": [
    "# Import dependencies\n",
    "import matplotlib.pyplot as plt\n",
    "import pandas as pd"
   ]
  },
  {
   "cell_type": "code",
   "execution_count": 3,
   "metadata": {},
   "outputs": [],
   "source": [
    "# Load the dataset into a pandas df and make sure to set index to column 0"
   ]
  },
  {
   "cell_type": "code",
   "execution_count": 4,
   "metadata": {},
   "outputs": [],
   "source": [
    "# Create a figure and axes object with figure size 8 inches by 10 inches"
   ]
  },
  {
   "cell_type": "code",
   "execution_count": 5,
   "metadata": {},
   "outputs": [],
   "source": [
    "# Add bars for \"iron ore\" with the label \"Iron Ore\""
   ]
  },
  {
   "cell_type": "code",
   "execution_count": 6,
   "metadata": {},
   "outputs": [],
   "source": [
    "# Stack bars for \"copper\" on top with label \"Copper\""
   ]
  },
  {
   "cell_type": "code",
   "execution_count": 7,
   "metadata": {},
   "outputs": [],
   "source": [
    "# Stack bars for \"gold\" on top of that with label \"Gold\""
   ]
  },
  {
   "cell_type": "code",
   "execution_count": 8,
   "metadata": {},
   "outputs": [],
   "source": [
    "# Rotataing the tick labels vertically"
   ]
  },
  {
   "cell_type": "code",
   "execution_count": 9,
   "metadata": {},
   "outputs": [],
   "source": [
    "# Setting the y label "
   ]
  },
  {
   "cell_type": "code",
   "execution_count": 10,
   "metadata": {},
   "outputs": [],
   "source": [
    "# Display the legend"
   ]
  },
  {
   "cell_type": "code",
   "execution_count": 11,
   "metadata": {},
   "outputs": [],
   "source": [
    "# Use plt.tight_layout() to improve the spacing in the figure"
   ]
  },
  {
   "cell_type": "code",
   "execution_count": null,
   "metadata": {},
   "outputs": [],
   "source": []
  }
 ],
 "metadata": {
  "kernelspec": {
   "display_name": "Python 3",
   "language": "python",
   "name": "python3"
  },
  "language_info": {
   "codemirror_mode": {
    "name": "ipython",
    "version": 3
   },
   "file_extension": ".py",
   "mimetype": "text/x-python",
   "name": "python",
   "nbconvert_exporter": "python",
   "pygments_lexer": "ipython3",
   "version": "3.8.5"
  }
 },
 "nbformat": 4,
 "nbformat_minor": 4
}
