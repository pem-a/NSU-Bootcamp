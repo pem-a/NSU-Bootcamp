{
 "cells": [
  {
   "cell_type": "markdown",
   "metadata": {},
   "source": [
    "### NY Weather Over One Year Period - Unsolved Version"
   ]
  },
  {
   "cell_type": "markdown",
   "metadata": {},
   "source": [
    "* **Instructions:**\n",
    "\n",
    "    * Using the following data, plot the monthly averages for temperature in New York in both degrees Fahrenheit and degrees Celsius.\n",
    "            \n",
    "    * Average temperature per month in Fahrenheit: 39, 42, 51, 62, 72, 82, 86, 84, 77, 65, 55, 44.\n",
    "    \n",
    "    * Assign to the x-axis a range of numerical values representing each month of the year.\n",
    "    \n",
    "    * Plot the degrees Fahrenheit points.\n",
    "    \n",
    "    * Use a list comprehension to convert the temperature to degrees Celsius.\n",
    "        \n",
    "        * The formula for conversion is: C = (F – 32) * 0.56. Where C is degrees Celsius and F is degrees Fahrenheit.\n",
    "    \n",
    "    * Plot the degrees Celsius points.\n",
    "    \n",
    "    * Create a third plot with both the degrees Fahrenheit and degrees Celsius points."
   ]
  },
  {
   "cell_type": "code",
   "execution_count": 1,
   "metadata": {},
   "outputs": [],
   "source": [
    "# Import dependencies"
   ]
  },
  {
   "cell_type": "code",
   "execution_count": 2,
   "metadata": {},
   "outputs": [],
   "source": [
    "# Create an array representing the twelve months of the year"
   ]
  },
  {
   "cell_type": "code",
   "execution_count": 3,
   "metadata": {},
   "outputs": [],
   "source": [
    "# Create a second array with average temperature per month in Farenheit"
   ]
  },
  {
   "cell_type": "code",
   "execution_count": 4,
   "metadata": {},
   "outputs": [],
   "source": [
    "# Create a plot visualizing the average temperature in Farenheit"
   ]
  },
  {
   "cell_type": "code",
   "execution_count": 5,
   "metadata": {},
   "outputs": [],
   "source": [
    "# Convert Farenheit to Celsius"
   ]
  },
  {
   "cell_type": "code",
   "execution_count": 6,
   "metadata": {},
   "outputs": [],
   "source": [
    "# Create a second plot using the Celsius data"
   ]
  },
  {
   "cell_type": "code",
   "execution_count": 7,
   "metadata": {},
   "outputs": [],
   "source": [
    "# Create a third plot using the Farenheit and the Celsius data"
   ]
  }
 ],
 "metadata": {
  "kernelspec": {
   "display_name": "Python 3",
   "language": "python",
   "name": "python3"
  },
  "language_info": {
   "codemirror_mode": {
    "name": "ipython",
    "version": 3
   },
   "file_extension": ".py",
   "mimetype": "text/x-python",
   "name": "python",
   "nbconvert_exporter": "python",
   "pygments_lexer": "ipython3",
   "version": "3.8.5"
  }
 },
 "nbformat": 4,
 "nbformat_minor": 4
}
