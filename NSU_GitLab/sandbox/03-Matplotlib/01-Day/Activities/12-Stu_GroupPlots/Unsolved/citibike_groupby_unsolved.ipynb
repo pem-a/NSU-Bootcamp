{
 "cells": [
  {
   "cell_type": "markdown",
   "metadata": {},
   "source": [
    "### CitiBike - Group by - Unsolved Version"
   ]
  },
  {
   "cell_type": "markdown",
   "metadata": {},
   "source": [
    "* For this assignment, you will be taking the Jersey City CitiBike dataset from the year of 2010 and create charts to determine which type of customer borrows and uses bikes more often.\n",
    "\n",
    "#### Instructions:\n",
    "\n",
    "  1. Open the [starter file](Unsolved/citibike_groupby_unsolved.ipynb).\n",
    "\n",
    "  2. Import your dependencies and then import your data into a pandas data frame.\n",
    "\n",
    "  3. Split up your data into groups based on customer type.\n",
    "\n",
    "  4. Chart your data using a bar graph, giving it both a title and labels for the axes.\n",
    "\n",
    "  **Optional:** If time permits navigate to [Matplotlib example visualizations](https://matplotlib.org/3.3.3/gallery/index.html) and look for a plot similar to what you have done and give it a shot.\n"
   ]
  },
  {
   "cell_type": "code",
   "execution_count": 1,
   "metadata": {},
   "outputs": [],
   "source": [
    "%matplotlib notebook"
   ]
  },
  {
   "cell_type": "code",
   "execution_count": 2,
   "metadata": {},
   "outputs": [],
   "source": [
    "# Import dependencies"
   ]
  },
  {
   "cell_type": "code",
   "execution_count": 3,
   "metadata": {},
   "outputs": [],
   "source": [
    "# Import the data into pandas from CSV"
   ]
  },
  {
   "cell_type": "code",
   "execution_count": 4,
   "metadata": {},
   "outputs": [],
   "source": [
    "# Split up our data into groups based on user type"
   ]
  },
  {
   "cell_type": "code",
   "execution_count": 5,
   "metadata": {},
   "outputs": [],
   "source": [
    "# Find out how many bike trips each customer type took"
   ]
  },
  {
   "cell_type": "code",
   "execution_count": 6,
   "metadata": {},
   "outputs": [],
   "source": [
    "# Create a bar chart based on user type count\n",
    "\n",
    "# Set the xlabel and ylabel using class methods\n",
    "\n",
    "# Show plot and make it plot size to fit outcome cell"
   ]
  }
 ],
 "metadata": {
  "kernelspec": {
   "display_name": "Python 3",
   "language": "python",
   "name": "python3"
  },
  "language_info": {
   "codemirror_mode": {
    "name": "ipython",
    "version": 3
   },
   "file_extension": ".py",
   "mimetype": "text/x-python",
   "name": "python",
   "nbconvert_exporter": "python",
   "pygments_lexer": "ipython3",
   "version": "3.8.5"
  }
 },
 "nbformat": 4,
 "nbformat_minor": 4
}
