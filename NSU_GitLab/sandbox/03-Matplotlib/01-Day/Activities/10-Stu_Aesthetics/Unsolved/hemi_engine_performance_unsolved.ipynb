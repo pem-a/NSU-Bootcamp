{
 "cells": [
  {
   "cell_type": "markdown",
   "metadata": {},
   "source": [
    "### Hemi Engine Performance - Unsolved Version"
   ]
  },
  {
   "cell_type": "markdown",
   "metadata": {},
   "source": [
    "#### Instructions:\n",
    "\n",
    "  1. Create a line chart with two plots using the following data:\n",
    "  \n",
    "     * For Power(bhp) and Torque(lbft), start at 0 and finish at 800 with increments of 100.\n",
    "        \n",
    "     * For the RPM, start at 500 and finish at 6500 with increments of 100.\n",
    "\n",
    "  2. When plotting the data, style with following parameters:\n",
    "    \n",
    "      * Shape of data points - Markers. (See Matplotlib Markers for more info under hint below)\n",
    "        \n",
    "      * Set colors for each plot. \n",
    "        \n",
    "      * Add appropriate labels to the x, y axes and a title to the chart.\n",
    "        \n",
    "      * Set limits for the x and y axes.\n",
    "      \n",
    "      * Add a grid to the chart.\n",
    "        \n",
    "  3. Lastly, save the chart to the images folder.\n",
    "\n",
    "  **Optional:** If time permits navigate to [Matplotlib example visualizations](https://matplotlib.org/3.3.3/gallery/index.html) and look for a plot similar to what you have done and give it a shot.\n",
    "\n",
    "\n",
    "#### Hints:\n",
    "\n",
    "  * See Matplotlib documentation for [matplotlib.markers](https://matplotlib.org/api/markers_api.html).\n"
   ]
  },
  {
   "cell_type": "code",
   "execution_count": 2,
   "metadata": {},
   "outputs": [],
   "source": [
    "%matplotlib notebook"
   ]
  },
  {
   "cell_type": "code",
   "execution_count": 3,
   "metadata": {},
   "outputs": [],
   "source": [
    "# Import dependencies"
   ]
  },
  {
   "cell_type": "code",
   "execution_count": 4,
   "metadata": {},
   "outputs": [],
   "source": [
    "# Import dependencies"
   ]
  },
  {
   "cell_type": "code",
   "execution_count": 5,
   "metadata": {},
   "outputs": [],
   "source": [
    "# Plot the chart and apply some styling"
   ]
  },
  {
   "cell_type": "code",
   "execution_count": 6,
   "metadata": {},
   "outputs": [],
   "source": [
    "# Add labels to x and y axes and add a title"
   ]
  },
  {
   "cell_type": "code",
   "execution_count": 7,
   "metadata": {},
   "outputs": [],
   "source": [
    "# Set the x and y limits"
   ]
  },
  {
   "cell_type": "code",
   "execution_count": 8,
   "metadata": {},
   "outputs": [],
   "source": [
    "# Add legend to the chart"
   ]
  },
  {
   "cell_type": "code",
   "execution_count": 9,
   "metadata": {},
   "outputs": [],
   "source": [
    "# Set a grid to the plot"
   ]
  },
  {
   "cell_type": "code",
   "execution_count": 10,
   "metadata": {},
   "outputs": [],
   "source": [
    "# Save plot"
   ]
  }
 ],
 "metadata": {
  "kernelspec": {
   "display_name": "Python 3",
   "language": "python",
   "name": "python3"
  },
  "language_info": {
   "codemirror_mode": {
    "name": "ipython",
    "version": 3
   },
   "file_extension": ".py",
   "mimetype": "text/x-python",
   "name": "python",
   "nbconvert_exporter": "python",
   "pygments_lexer": "ipython3",
   "version": "3.8.5"
  }
 },
 "nbformat": 4,
 "nbformat_minor": 4
}
