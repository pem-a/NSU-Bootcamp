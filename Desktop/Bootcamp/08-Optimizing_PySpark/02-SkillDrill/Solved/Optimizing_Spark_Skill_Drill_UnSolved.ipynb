{
  "nbformat": 4,
  "nbformat_minor": 0,
  "metadata": {
    "colab": {
      "name": "Optimizing_Spark_Skill_Drill_UnSolved.ipynb",
      "provenance": [],
      "collapsed_sections": [],
      "toc_visible": true
    },
    "kernelspec": {
      "name": "python3",
      "display_name": "Python 3"
    },
    "language_info": {
      "name": "python"
    }
  },
  "cells": [
    {
      "cell_type": "markdown",
      "metadata": {
        "id": "Kcbx0f2q27rD"
      },
      "source": [
        " # Skill Drill: Putting it ALL together\n",
        " ## Overview\n",
        "\n",
        " A VP at your company has written a SQL for a report that shows how much time is being lost due to flight delays by Airport and Carrier.  It is performing below expectations.  Using all of the optimizing skills you have learned in Unit 8, get this query to run as fast as possible.\n",
        "\n",
        "\n",
        "---\n",
        "\n",
        "---\n",
        "\n",
        "\n",
        "\n",
        "\n",
        " Hint: Initial query takes between 15-20 seconds.  Final query should be <2 seconds\n"
      ]
    },
    {
      "cell_type": "code",
      "metadata": {
        "colab": {
          "base_uri": "https://localhost:8080/"
        },
        "id": "eGA5-htN6oEN",
        "outputId": "bc94e1bc-5134-44d7-82da-c9e9811bc320"
      },
      "source": [
        "# activate Spark in our Colab notebook.\n",
        "import os\n",
        "# Find the latest version of spark 3.0  from http://www-us.apache.org/dist/spark/ and enter as the spark version\n",
        "# For example:\n",
        "spark_version = 'spark-3.0.2'\n",
        "# spark_version = 'spark-3.<enter version>'\n",
        "os.environ['SPARK_VERSION']=spark_version\n",
        "\n",
        "# Install Spark and Java\n",
        "!apt-get update\n",
        "!apt-get install openjdk-11-jdk-headless -qq > /dev/null\n",
        "!wget -q http://www-us.apache.org/dist/spark/$SPARK_VERSION/$SPARK_VERSION-bin-hadoop2.7.tgz\n",
        "!tar xf $SPARK_VERSION-bin-hadoop2.7.tgz\n",
        "!pip install -q findspark\n",
        "\n",
        "# Set Environment Variables\n",
        "os.environ[\"JAVA_HOME\"] = \"/usr/lib/jvm/java-11-openjdk-amd64\"\n",
        "os.environ[\"SPARK_HOME\"] = f\"/content/{spark_version}-bin-hadoop2.7\"\n",
        "\n",
        "# Start a SparkSession\n",
        "import findspark\n",
        "findspark.init()"
      ],
      "execution_count": 1,
      "outputs": [
        {
          "output_type": "stream",
          "text": [
            "\r0% [Working]\r            \rGet:1 https://cloud.r-project.org/bin/linux/ubuntu bionic-cran40/ InRelease [3,626 B]\n",
            "Ign:2 https://developer.download.nvidia.com/compute/cuda/repos/ubuntu1804/x86_64  InRelease\n",
            "Ign:3 https://developer.download.nvidia.com/compute/machine-learning/repos/ubuntu1804/x86_64  InRelease\n",
            "Get:4 http://ppa.launchpad.net/c2d4u.team/c2d4u4.0+/ubuntu bionic InRelease [15.9 kB]\n",
            "Get:5 https://developer.download.nvidia.com/compute/cuda/repos/ubuntu1804/x86_64  Release [697 B]\n",
            "Hit:6 https://developer.download.nvidia.com/compute/machine-learning/repos/ubuntu1804/x86_64  Release\n",
            "Hit:7 http://archive.ubuntu.com/ubuntu bionic InRelease\n",
            "Get:8 https://developer.download.nvidia.com/compute/cuda/repos/ubuntu1804/x86_64  Release.gpg [836 B]\n",
            "Get:9 http://security.ubuntu.com/ubuntu bionic-security InRelease [88.7 kB]\n",
            "Get:10 http://archive.ubuntu.com/ubuntu bionic-updates InRelease [88.7 kB]\n",
            "Hit:11 http://ppa.launchpad.net/cran/libgit2/ubuntu bionic InRelease\n",
            "Hit:13 http://ppa.launchpad.net/deadsnakes/ppa/ubuntu bionic InRelease\n",
            "Get:14 http://archive.ubuntu.com/ubuntu bionic-backports InRelease [74.6 kB]\n",
            "Hit:15 http://ppa.launchpad.net/graphics-drivers/ppa/ubuntu bionic InRelease\n",
            "Ign:16 https://developer.download.nvidia.com/compute/cuda/repos/ubuntu1804/x86_64  Packages\n",
            "Get:16 https://developer.download.nvidia.com/compute/cuda/repos/ubuntu1804/x86_64  Packages [741 kB]\n",
            "Get:17 http://ppa.launchpad.net/c2d4u.team/c2d4u4.0+/ubuntu bionic/main Sources [1,756 kB]\n",
            "Get:18 http://security.ubuntu.com/ubuntu bionic-security/restricted amd64 Packages [396 kB]\n",
            "Get:19 http://archive.ubuntu.com/ubuntu bionic-updates/universe amd64 Packages [2,181 kB]\n",
            "Get:20 http://security.ubuntu.com/ubuntu bionic-security/multiverse amd64 Packages [24.7 kB]\n",
            "Get:21 http://security.ubuntu.com/ubuntu bionic-security/main amd64 Packages [2,116 kB]\n",
            "Get:22 http://ppa.launchpad.net/c2d4u.team/c2d4u4.0+/ubuntu bionic/main amd64 Packages [899 kB]\n",
            "Get:23 http://archive.ubuntu.com/ubuntu bionic-updates/main amd64 Packages [2,546 kB]\n",
            "Get:24 http://archive.ubuntu.com/ubuntu bionic-updates/restricted amd64 Packages [426 kB]\n",
            "Get:25 http://archive.ubuntu.com/ubuntu bionic-updates/multiverse amd64 Packages [31.6 kB]\n",
            "Fetched 11.4 MB in 3s (3,348 kB/s)\n",
            "Reading package lists... Done\n"
          ],
          "name": "stdout"
        }
      ]
    },
    {
      "cell_type": "code",
      "metadata": {
        "id": "pIUo9MYO6vlj"
      },
      "source": [
        "#import packages\n",
        "\n",
        "from pyspark.sql import SparkSession\n",
        "from pyspark.sql import Row\n",
        "from pyspark.sql.types import StructType,StructField,StringType, DateType,IntegerType\n",
        "import pandas as pd\n",
        "\n",
        "# we are going to use this to time our queries.\n",
        "import time\n",
        "\n",
        "# Create a SparkSession\n",
        "spark = SparkSession.builder.appName(\"SparkSQL\").getOrCreate()"
      ],
      "execution_count": 2,
      "outputs": []
    },
    {
      "cell_type": "code",
      "metadata": {
        "id": "Ej6Sabcd-1At"
      },
      "source": [
        "# Read in data from S3 Bucket\n",
        "from pyspark import SparkFiles\n",
        "url = \"https://2u-data-curriculum-team.s3.amazonaws.com/dataviz-netflix/DelayedFlights.csv\"\n",
        "spark.sparkContext.addFile(url)\n",
        "df = spark.read.csv(SparkFiles.get(\"DelayedFlights.csv\"), sep=\",\", header=True)\n",
        "url_cities='https://2u-data-curriculum-team.s3.amazonaws.com/dataviz-netflix/cities500.txt'\n",
        "spark.sparkContext.addFile(url_cities)\n",
        "df_lookup_geo = spark.read.csv(SparkFiles.get(\"cities500.txt\"), sep=\"\\t\", header=True)\n",
        "\n",
        "# we are going to do a lookup here as well so upload the airportCodes.csv file from you Resources directory \n",
        "df_lookup_city_name=spark.read.csv('airportCodes.csv', sep=',', header=True)\n"
      ],
      "execution_count": 4,
      "outputs": []
    },
    {
      "cell_type": "code",
      "metadata": {
        "id": "5DFhjm5Z_O5Z"
      },
      "source": [
        "#Create temporary views for each of our dataframes\n",
        "# We are going to filter the data to US only as we create the Temp Views.\n",
        "\n",
        "df.createOrReplaceTempView('delayed')\n",
        "df_lookup_city_name.createOrReplaceTempView('lookup_city')\n",
        "df_lookup_geo.createOrReplaceTempView('lookup_geo')"
      ],
      "execution_count": 5,
      "outputs": []
    },
    {
      "cell_type": "code",
      "metadata": {
        "id": "fhgb2iFihRbW",
        "colab": {
          "base_uri": "https://localhost:8080/"
        },
        "outputId": "20bd6333-d82e-4587-f5b7-5ec9bea279a2"
      },
      "source": [
        "# Here is the  initial query presented to you for optimization\n",
        "# Note the runtime\n",
        "start_time = time.time()\n",
        "\n",
        "spark.sql(\"\"\"\n",
        "with allColumns\n",
        "(select \n",
        "a.Year,\n",
        "a.Month,\n",
        "a.DayofMonth,\n",
        "a.DayOfWeek,\n",
        "a.DepTime,\n",
        "a.CRSDepTime,\n",
        "a.ArrTime,\n",
        "a.CRSArrTime,\n",
        "a.UniqueCarrier,\n",
        "a.FlightNum,\n",
        "a.TailNum,\n",
        "a.ActualElapsedTime,\n",
        "a.CRSElapsedTime,\n",
        "a.AirTime,\n",
        "a.ArrDelay,\n",
        "a.DepDelay,\n",
        "a.Origin,\n",
        "b.City as Origin_City,\n",
        "geo.latitude as Origin_latitude,\n",
        "geo.longitude as Origin_longitude,\n",
        "a.Dest,\n",
        "c.City as Dest_City,\n",
        "geo_dest.latitude as Dest_latitude,\n",
        "geo_dest.longitude as Dest_longitude,\n",
        "a.Distance,\n",
        "a.TaxiIn,\n",
        "a.TaxiOut,\n",
        "a.Cancelled,\n",
        "a.CancellationCode,\n",
        "a.Diverted,\n",
        "a.CarrierDelay,\n",
        "a.WeatherDelay,\n",
        "a.NASDelay,\n",
        "a.SecurityDelay,\n",
        "a.LateAircraftDelay from  delayed a \n",
        "  inner join lookup_city b\n",
        "    on a.Origin=b.airportCode\n",
        "  inner join lookup_city c\n",
        "    on a.Dest=c.airportCode\n",
        "  inner join lookup_geo geo\n",
        "on split(b.City,',')[0]=geo.name\n",
        "     and trim(split(b.City,',')[1])=geo.admin1_code\n",
        "  inner join lookup_geo geo_dest\n",
        "    on c.City=concat(geo_dest.name,', ',geo_dest.admin1_code)\n",
        ")\n",
        "select Origin, UniqueCarrier, Origin_City, Origin_latitude, Origin_Longitude, Dest_latitude, Dest_longitude, max(DepDelay) as delayed, avg(CarrierDelay) avgCarrierDelay \n",
        "from allColumns \n",
        "group by Origin, UniqueCarrier, Origin_City, Origin_latitude, Origin_Longitude, Dest_latitude, Dest_longitude\n",
        "\"\"\").show()\n",
        "\n",
        "print(\"--- %s seconds ---\" % (time.time() - start_time))"
      ],
      "execution_count": 6,
      "outputs": [
        {
          "output_type": "stream",
          "text": [
            "+------+-------------+---------------+---------------+----------------+-------------+--------------+-------+------------------+\n",
            "|Origin|UniqueCarrier|    Origin_City|Origin_latitude|Origin_Longitude|Dest_latitude|Dest_longitude|delayed|   avgCarrierDelay|\n",
            "+------+-------------+---------------+---------------+----------------+-------------+--------------+-------+------------------+\n",
            "|   ATL|           EV|    Atlanta, GA|         33.749|       -84.38798|     31.31129|     -92.44514|   99.0| 28.81025641025641|\n",
            "|   ABQ|           DL|Albuquerque, NM|       35.08449|      -106.65114|       33.749|     -84.38798|   99.0|40.401869158878505|\n",
            "|   ATW|           EV|   Appleton, WI|       44.26193|       -88.41538|       33.749|     -84.38798|   99.0|30.546666666666667|\n",
            "|   BWI|           WN|  Baltimore, MD|       39.29038|       -76.61219|     30.26715|     -97.74306|   95.0|12.741935483870968|\n",
            "|   CAK|           EV|      Akron, OH|       41.08144|       -81.51901|       33.749|     -84.38798|   99.0|28.156941649899398|\n",
            "|   ATL|           OH|    Atlanta, GA|         33.749|       -84.38798|     30.26715|     -97.74306|   97.0| 40.42245989304813|\n",
            "|   CAK|           FL|      Akron, OH|       41.08144|       -81.51901|     42.35843|     -71.05977|   99.0|  2.63302752293578|\n",
            "|   AEX|           EV| Alexandria, LA|       31.31129|       -92.44514|       33.749|     -84.38798|   96.0|27.155778894472363|\n",
            "|   BMI|           FL|Bloomington, IL|        40.4842|       -88.99369|       33.749|     -84.38798|   98.0| 8.437158469945356|\n",
            "|   BOS|           OH|     Boston, MA|       42.35843|       -71.05977|     44.80118|     -68.77781|   95.0|18.462311557788944|\n",
            "|   ATL|           EV|    Atlanta, GA|         33.749|       -84.38798|     41.08144|     -81.51901|   99.0| 30.99437148217636|\n",
            "|   CAK|           DL|      Akron, OH|       41.08144|       -81.51901|       33.749|     -84.38798|    9.0| 27.91304347826087|\n",
            "|   ATL|           FL|    Atlanta, GA|         33.749|       -84.38798|     41.08144|     -81.51901|   99.0| 12.44890510948905|\n",
            "|   BOS|           FL|     Boston, MA|       42.35843|       -71.05977|     41.08144|     -81.51901|   99.0|1.0092592592592593|\n",
            "|   BHM|           EV| Birmingham, AL|       33.52066|       -86.80249|       33.749|     -84.38798|   96.0| 17.04794520547945|\n",
            "|   ATL|           DL|    Atlanta, GA|         33.749|       -84.38798|     35.08449|    -106.65114|   98.0|20.948275862068964|\n",
            "|   BRW|           AS|     Barrow, AK|       71.29058|      -156.78872|     61.21806|    -149.90028|   97.0| 4.483516483516484|\n",
            "|   ATL|           OO|    Atlanta, GA|         33.749|       -84.38798|     30.26715|     -97.74306|    6.0|              19.0|\n",
            "|   ASE|           OO|      Aspen, CO|        39.1911|      -106.81754|       33.749|     -84.38798|   82.0|               6.0|\n",
            "|   BWI|           EV|  Baltimore, MD|       39.29038|       -76.61219|       33.749|     -84.38798|   93.0|              15.5|\n",
            "+------+-------------+---------------+---------------+----------------+-------------+--------------+-------+------------------+\n",
            "only showing top 20 rows\n",
            "\n",
            "--- 18.144161462783813 seconds ---\n"
          ],
          "name": "stdout"
        }
      ]
    },
    {
      "cell_type": "code",
      "metadata": {
        "id": "_797bPxUaFOY"
      },
      "source": [
        "#partition the largest table\n"
      ],
      "execution_count": null,
      "outputs": []
    },
    {
      "cell_type": "code",
      "metadata": {
        "id": "q-LGqVCezkfQ"
      },
      "source": [
        "df.write.partitionBy(\"UniqueCarrier\").mode(\"overwrite\").parquet(\"delayed_partitioned\")"
      ],
      "execution_count": 16,
      "outputs": []
    },
    {
      "cell_type": "code",
      "metadata": {
        "id": "7R7wBwdVbk-f"
      },
      "source": [
        "# read the new parquet formatted data\n",
        "parquet_df_p=spark.read.parquet('delayed_partitioned')"
      ],
      "execution_count": 32,
      "outputs": []
    },
    {
      "cell_type": "code",
      "metadata": {
        "id": "5oWokIp2b0Ba"
      },
      "source": [
        "# create a view (same name as before so we don't have change our SQL)\n",
        "parquet_df_p.createOrReplaceTempView('delayed')"
      ],
      "execution_count": 33,
      "outputs": []
    },
    {
      "cell_type": "code",
      "metadata": {
        "id": "Oc4uyu-sb8zY",
        "colab": {
          "base_uri": "https://localhost:8080/"
        },
        "outputId": "e6b5ce4a-7bb1-4471-afe3-e25fea5c63e3"
      },
      "source": [
        "# run 2 after storing the data more appropriately and partitioning\n",
        "\n",
        "# Note the runtime\n",
        "start_time = time.time()\n",
        "\n",
        "spark.sql(\"\"\"\n",
        "with allColumns\n",
        "(select \n",
        "a.Year,\n",
        "a.Month,\n",
        "a.DayofMonth,\n",
        "a.DayOfWeek,\n",
        "a.DepTime,\n",
        "a.CRSDepTime,\n",
        "a.ArrTime,\n",
        "a.CRSArrTime,\n",
        "a.UniqueCarrier,\n",
        "a.FlightNum,\n",
        "a.TailNum,\n",
        "a.ActualElapsedTime,\n",
        "a.CRSElapsedTime,\n",
        "a.AirTime,\n",
        "a.ArrDelay,\n",
        "a.DepDelay,\n",
        "a.Origin,\n",
        "b.City as Origin_City,\n",
        "geo.latitude as Origin_latitude,\n",
        "geo.longitude as Origin_longitude,\n",
        "a.Dest,\n",
        "c.City as Dest_City,\n",
        "geo_dest.latitude as Dest_latitude,\n",
        "geo_dest.longitude as Dest_longitude,\n",
        "a.Distance,\n",
        "a.TaxiIn,\n",
        "a.TaxiOut,\n",
        "a.Cancelled,\n",
        "a.CancellationCode,\n",
        "a.Diverted,\n",
        "a.CarrierDelay,\n",
        "a.WeatherDelay,\n",
        "a.NASDelay,\n",
        "a.SecurityDelay,\n",
        "a.LateAircraftDelay from  delayed a \n",
        "  inner join lookup_city b\n",
        "    on a.Origin=b.airportCode\n",
        "  inner join lookup_city c\n",
        "    on a.Dest=c.airportCode\n",
        "  inner join lookup_geo geo\n",
        "on split(b.City,',')[0]=geo.name\n",
        "     and trim(split(b.City,',')[1])=geo.admin1_code\n",
        "  inner join lookup_geo geo_dest\n",
        "    on c.City=concat(geo_dest.name,', ',geo_dest.admin1_code)\n",
        ")\n",
        "select Origin, UniqueCarrier, Origin_City, Origin_latitude, Origin_Longitude, Dest_latitude, Dest_longitude, max(DepDelay) as delayed, avg(CarrierDelay) avgCarrierDelay \n",
        "from allColumns \n",
        "group by Origin, UniqueCarrier, Origin_City, Origin_latitude, Origin_Longitude, Dest_latitude, Dest_longitude\n",
        "\"\"\").show()\n",
        "\n",
        "print(\"--- %s seconds ---\" % (time.time() - start_time))"
      ],
      "execution_count": 34,
      "outputs": [
        {
          "output_type": "stream",
          "text": [
            "+------+-------------+-------------+---------------+----------------+-------------+--------------+-------+------------------+\n",
            "|Origin|UniqueCarrier|  Origin_City|Origin_latitude|Origin_Longitude|Dest_latitude|Dest_longitude|delayed|   avgCarrierDelay|\n",
            "+------+-------------+-------------+---------------+----------------+-------------+--------------+-------+------------------+\n",
            "|   ABE|           OO|Allentown, PA|       40.60843|       -75.49018|     33.52066|     -86.80249|   11.0|              null|\n",
            "|   ALB|           OH|   Albany, NY|       42.65258|       -73.75623|     42.35843|     -71.05977|   55.0|               0.0|\n",
            "|   ALB|           WN|   Albany, NY|       42.65258|       -73.75623|     39.29038|     -76.61219|   99.0| 8.203647416413373|\n",
            "|   ASE|           OO|    Aspen, CO|        39.1911|      -106.81754|       33.749|     -84.38798|   82.0|               6.0|\n",
            "|   ATL|           9E|  Atlanta, GA|         33.749|       -84.38798|     33.52066|     -86.80249|   94.0|15.083333333333334|\n",
            "|   ATL|           9E|  Atlanta, GA|         33.749|       -84.38798|     39.29038|     -76.61219|    6.0|              null|\n",
            "|   ATL|           DL|  Atlanta, GA|         33.749|       -84.38798|     30.26715|     -97.74306|   99.0| 20.12719298245614|\n",
            "|   ATL|           DL|  Atlanta, GA|         33.749|       -84.38798|     33.52066|     -86.80249|   98.0|            19.856|\n",
            "|   ATL|           DL|  Atlanta, GA|         33.749|       -84.38798|     41.08144|     -81.51901|    7.0| 17.11111111111111|\n",
            "|   ATL|           DL|  Atlanta, GA|         33.749|       -84.38798|     61.21806|    -149.90028|    9.0|             25.75|\n",
            "|   ATL|           EV|  Atlanta, GA|         33.749|       -84.38798|     39.29038|     -76.61219|   82.0|              17.6|\n",
            "|   ATL|           EV|  Atlanta, GA|         33.749|       -84.38798|     39.36415|     -74.42306|    9.0|  46.1578947368421|\n",
            "|   ATL|           EV|  Atlanta, GA|         33.749|       -84.38798|     41.08144|     -81.51901|   99.0| 30.99437148217636|\n",
            "|   ATL|           OH|  Atlanta, GA|         33.749|       -84.38798|     30.44332|     -91.18747|   82.0| 48.13333333333333|\n",
            "|   ATL|           OH|  Atlanta, GA|         33.749|       -84.38798|     40.60843|     -75.49018|    8.0|              16.5|\n",
            "|   ATL|           OO|  Atlanta, GA|         33.749|       -84.38798|     33.52066|     -86.80249|   31.0|               0.0|\n",
            "|   ATL|           OO|  Atlanta, GA|         33.749|       -84.38798|      39.1911|    -106.81754|   81.0|13.571428571428571|\n",
            "|   ATW|           OH| Appleton, WI|       44.26193|       -88.41538|       33.749|     -84.38798|   70.0|             46.25|\n",
            "|   AUS|           DL|   Austin, TX|       30.26715|       -97.74306|       33.749|     -84.38798|   96.0| 22.71904761904762|\n",
            "|   AUS|           OH|   Austin, TX|       30.26715|       -97.74306|       33.749|     -84.38798|   90.0|             43.64|\n",
            "+------+-------------+-------------+---------------+----------------+-------------+--------------+-------+------------------+\n",
            "only showing top 20 rows\n",
            "\n",
            "--- 5.4063355922698975 seconds ---\n"
          ],
          "name": "stdout"
        }
      ]
    },
    {
      "cell_type": "code",
      "metadata": {
        "id": "4f3iZbtlcMZ6"
      },
      "source": [
        "# Recall that the default shuffle partitions is 200.  We want to bring that down to a reasonable size for both our data and our Spark cluster\n",
        "# 4 is reasonable for a free Colab \n",
        "spark.conf.set(\"spark.sql.shuffle.partitions\",4)"
      ],
      "execution_count": 35,
      "outputs": []
    },
    {
      "cell_type": "code",
      "metadata": {
        "id": "kvYdTGRCcQjN",
        "colab": {
          "base_uri": "https://localhost:8080/"
        },
        "outputId": "2e8eef75-7d00-45d6-8e55-6a840a8de749"
      },
      "source": [
        "# Run 3 after setting the shuffle partitions to a more appropriate number\n",
        "# Note the runtime\n",
        "start_time = time.time()\n",
        "\n",
        "spark.sql(\"\"\"\n",
        "with allColumns\n",
        "(select \n",
        "a.Year,\n",
        "a.Month,\n",
        "a.DayofMonth,\n",
        "a.DayOfWeek,\n",
        "a.DepTime,\n",
        "a.CRSDepTime,\n",
        "a.ArrTime,\n",
        "a.CRSArrTime,\n",
        "a.UniqueCarrier,\n",
        "a.FlightNum,\n",
        "a.TailNum,\n",
        "a.ActualElapsedTime,\n",
        "a.CRSElapsedTime,\n",
        "a.AirTime,\n",
        "a.ArrDelay,\n",
        "a.DepDelay,\n",
        "a.Origin,\n",
        "b.City as Origin_City,\n",
        "geo.latitude as Origin_latitude,\n",
        "geo.longitude as Origin_longitude,\n",
        "a.Dest,\n",
        "c.City as Dest_City,\n",
        "geo_dest.latitude as Dest_latitude,\n",
        "geo_dest.longitude as Dest_longitude,\n",
        "a.Distance,\n",
        "a.TaxiIn,\n",
        "a.TaxiOut,\n",
        "a.Cancelled,\n",
        "a.CancellationCode,\n",
        "a.Diverted,\n",
        "a.CarrierDelay,\n",
        "a.WeatherDelay,\n",
        "a.NASDelay,\n",
        "a.SecurityDelay,\n",
        "a.LateAircraftDelay from  delayed a \n",
        "  inner join lookup_city b\n",
        "    on a.Origin=b.airportCode\n",
        "  inner join lookup_city c\n",
        "    on a.Dest=c.airportCode\n",
        "  inner join lookup_geo geo\n",
        "on split(b.City,',')[0]=geo.name\n",
        "     and trim(split(b.City,',')[1])=geo.admin1_code\n",
        "  inner join lookup_geo geo_dest\n",
        "    on c.City=concat(geo_dest.name,', ',geo_dest.admin1_code)\n",
        ")\n",
        "select Origin, UniqueCarrier, Origin_City, Origin_latitude, Origin_Longitude, Dest_latitude, Dest_longitude, max(DepDelay) as delayed, avg(CarrierDelay) avgCarrierDelay \n",
        "from allColumns \n",
        "group by Origin, UniqueCarrier, Origin_City, Origin_latitude, Origin_Longitude, Dest_latitude, Dest_longitude\n",
        "\"\"\").show()\n",
        "\n",
        "print(\"--- %s seconds ---\" % (time.time() - start_time))"
      ],
      "execution_count": 38,
      "outputs": [
        {
          "output_type": "stream",
          "text": [
            "+------+-------------+-------------+---------------+----------------+-------------+--------------+-------+------------------+\n",
            "|Origin|UniqueCarrier|  Origin_City|Origin_latitude|Origin_Longitude|Dest_latitude|Dest_longitude|delayed|   avgCarrierDelay|\n",
            "+------+-------------+-------------+---------------+----------------+-------------+--------------+-------+------------------+\n",
            "|   ABE|           OO|Allentown, PA|       40.60843|       -75.49018|     33.52066|     -86.80249|   11.0|              null|\n",
            "|   ALB|           OH|   Albany, NY|       42.65258|       -73.75623|     42.35843|     -71.05977|   55.0|               0.0|\n",
            "|   ALB|           WN|   Albany, NY|       42.65258|       -73.75623|     39.29038|     -76.61219|   99.0| 8.203647416413373|\n",
            "|   ASE|           OO|    Aspen, CO|        39.1911|      -106.81754|       33.749|     -84.38798|   82.0|               6.0|\n",
            "|   ATL|           9E|  Atlanta, GA|         33.749|       -84.38798|     33.52066|     -86.80249|   94.0|15.083333333333334|\n",
            "|   ATL|           9E|  Atlanta, GA|         33.749|       -84.38798|     39.29038|     -76.61219|    6.0|              null|\n",
            "|   ATL|           DL|  Atlanta, GA|         33.749|       -84.38798|     30.26715|     -97.74306|   99.0| 20.12719298245614|\n",
            "|   ATL|           DL|  Atlanta, GA|         33.749|       -84.38798|     33.52066|     -86.80249|   98.0|            19.856|\n",
            "|   ATL|           DL|  Atlanta, GA|         33.749|       -84.38798|     41.08144|     -81.51901|    7.0| 17.11111111111111|\n",
            "|   ATL|           DL|  Atlanta, GA|         33.749|       -84.38798|     61.21806|    -149.90028|    9.0|             25.75|\n",
            "|   ATL|           EV|  Atlanta, GA|         33.749|       -84.38798|     39.29038|     -76.61219|   82.0|              17.6|\n",
            "|   ATL|           EV|  Atlanta, GA|         33.749|       -84.38798|     39.36415|     -74.42306|    9.0|  46.1578947368421|\n",
            "|   ATL|           EV|  Atlanta, GA|         33.749|       -84.38798|     41.08144|     -81.51901|   99.0| 30.99437148217636|\n",
            "|   ATL|           OH|  Atlanta, GA|         33.749|       -84.38798|     30.44332|     -91.18747|   82.0| 48.13333333333333|\n",
            "|   ATL|           OH|  Atlanta, GA|         33.749|       -84.38798|     40.60843|     -75.49018|    8.0|              16.5|\n",
            "|   ATL|           OO|  Atlanta, GA|         33.749|       -84.38798|     33.52066|     -86.80249|   31.0|               0.0|\n",
            "|   ATL|           OO|  Atlanta, GA|         33.749|       -84.38798|      39.1911|    -106.81754|   81.0|13.571428571428571|\n",
            "|   ATW|           OH| Appleton, WI|       44.26193|       -88.41538|       33.749|     -84.38798|   70.0|             46.25|\n",
            "|   AUS|           DL|   Austin, TX|       30.26715|       -97.74306|       33.749|     -84.38798|   96.0| 22.71904761904762|\n",
            "|   AUS|           OH|   Austin, TX|       30.26715|       -97.74306|       33.749|     -84.38798|   90.0|             43.64|\n",
            "+------+-------------+-------------+---------------+----------------+-------------+--------------+-------+------------------+\n",
            "only showing top 20 rows\n",
            "\n",
            "--- 4.8219523429870605 seconds ---\n"
          ],
          "name": "stdout"
        }
      ]
    },
    {
      "cell_type": "code",
      "metadata": {
        "id": "mPR_2uq0vdyt"
      },
      "source": [
        "# cache your largest temporary view\n",
        "# Note: when we use SparkSQL to cache a table, the table is immediately cached (no lazy evaluation), when using Pyspark it will not be cached until an action is rank\n",
        "# spark.sql(\" CACHE Table delayed_cache as select * from delayed\")\n",
        "spark.catalog.cacheTable('delayed')"
      ],
      "execution_count": 52,
      "outputs": []
    },
    {
      "cell_type": "code",
      "metadata": {
        "colab": {
          "base_uri": "https://localhost:8080/"
        },
        "id": "eodqtIHByC2J",
        "outputId": "6865c39c-b89c-4efd-b5d0-55da00b92fa2"
      },
      "source": [
        "# check that your table is cached \n",
        "spark.catalog.isCached(\"delayed\")"
      ],
      "execution_count": 53,
      "outputs": [
        {
          "output_type": "execute_result",
          "data": {
            "text/plain": [
              "True"
            ]
          },
          "metadata": {
            "tags": []
          },
          "execution_count": 53
        }
      ]
    },
    {
      "cell_type": "code",
      "metadata": {
        "id": "jP7129kUda1b",
        "colab": {
          "base_uri": "https://localhost:8080/"
        },
        "outputId": "b9e13566-2888-4104-832d-c00308fa6d97"
      },
      "source": [
        "# Run 4 - after caching driver table\n",
        "# Note the runtime\n",
        "start_time = time.time()\n",
        "\n",
        "spark.sql(\"\"\"\n",
        "with allColumns\n",
        "(select \n",
        "a.Year,\n",
        "a.Month,\n",
        "a.DayofMonth,\n",
        "a.DayOfWeek,\n",
        "a.DepTime,\n",
        "a.CRSDepTime,\n",
        "a.ArrTime,\n",
        "a.CRSArrTime,\n",
        "a.UniqueCarrier,\n",
        "a.FlightNum,\n",
        "a.TailNum,\n",
        "a.ActualElapsedTime,\n",
        "a.CRSElapsedTime,\n",
        "a.AirTime,\n",
        "a.ArrDelay,\n",
        "a.DepDelay,\n",
        "a.Origin,\n",
        "b.City as Origin_City,\n",
        "geo.latitude as Origin_latitude,\n",
        "geo.longitude as Origin_longitude,\n",
        "a.Dest,\n",
        "c.City as Dest_City,\n",
        "geo_dest.latitude as Dest_latitude,\n",
        "geo_dest.longitude as Dest_longitude,\n",
        "a.Distance,\n",
        "a.TaxiIn,\n",
        "a.TaxiOut,\n",
        "a.Cancelled,\n",
        "a.CancellationCode,\n",
        "a.Diverted,\n",
        "a.CarrierDelay,\n",
        "a.WeatherDelay,\n",
        "a.NASDelay,\n",
        "a.SecurityDelay,\n",
        "a.LateAircraftDelay from  delayed a \n",
        "  inner join lookup_city b\n",
        "    on a.Origin=b.airportCode\n",
        "  inner join lookup_city c\n",
        "    on a.Dest=c.airportCode\n",
        "  inner join lookup_geo geo\n",
        "on split(b.City,',')[0]=geo.name\n",
        "     and trim(split(b.City,',')[1])=geo.admin1_code\n",
        "  inner join lookup_geo geo_dest\n",
        "    on c.City=concat(geo_dest.name,', ',geo_dest.admin1_code)\n",
        ")\n",
        "select Origin, UniqueCarrier, Origin_City, Origin_latitude, Origin_Longitude, Dest_latitude, Dest_longitude, max(DepDelay) as delayed, avg(CarrierDelay) avgCarrierDelay \n",
        "from allColumns \n",
        "group by Origin, UniqueCarrier, Origin_City, Origin_latitude, Origin_Longitude, Dest_latitude, Dest_longitude\n",
        "\"\"\").show()\n",
        "\n",
        "print(\"--- %s seconds ---\" % (time.time() - start_time))"
      ],
      "execution_count": 55,
      "outputs": [
        {
          "output_type": "stream",
          "text": [
            "+------+-------------+-------------+---------------+----------------+-------------+--------------+-------+------------------+\n",
            "|Origin|UniqueCarrier|  Origin_City|Origin_latitude|Origin_Longitude|Dest_latitude|Dest_longitude|delayed|   avgCarrierDelay|\n",
            "+------+-------------+-------------+---------------+----------------+-------------+--------------+-------+------------------+\n",
            "|   ABE|           OO|Allentown, PA|       40.60843|       -75.49018|     33.52066|     -86.80249|   11.0|              null|\n",
            "|   ALB|           OH|   Albany, NY|       42.65258|       -73.75623|     42.35843|     -71.05977|   55.0|               0.0|\n",
            "|   ALB|           WN|   Albany, NY|       42.65258|       -73.75623|     39.29038|     -76.61219|   99.0| 8.203647416413373|\n",
            "|   ASE|           OO|    Aspen, CO|        39.1911|      -106.81754|       33.749|     -84.38798|   82.0|               6.0|\n",
            "|   ATL|           9E|  Atlanta, GA|         33.749|       -84.38798|     33.52066|     -86.80249|   94.0|15.083333333333334|\n",
            "|   ATL|           9E|  Atlanta, GA|         33.749|       -84.38798|     39.29038|     -76.61219|    6.0|              null|\n",
            "|   ATL|           DL|  Atlanta, GA|         33.749|       -84.38798|     30.26715|     -97.74306|   99.0| 20.12719298245614|\n",
            "|   ATL|           DL|  Atlanta, GA|         33.749|       -84.38798|     33.52066|     -86.80249|   98.0|            19.856|\n",
            "|   ATL|           DL|  Atlanta, GA|         33.749|       -84.38798|     41.08144|     -81.51901|    7.0| 17.11111111111111|\n",
            "|   ATL|           DL|  Atlanta, GA|         33.749|       -84.38798|     61.21806|    -149.90028|    9.0|             25.75|\n",
            "|   ATL|           EV|  Atlanta, GA|         33.749|       -84.38798|     39.29038|     -76.61219|   82.0|              17.6|\n",
            "|   ATL|           EV|  Atlanta, GA|         33.749|       -84.38798|     39.36415|     -74.42306|    9.0|  46.1578947368421|\n",
            "|   ATL|           EV|  Atlanta, GA|         33.749|       -84.38798|     41.08144|     -81.51901|   99.0| 30.99437148217636|\n",
            "|   ATL|           OH|  Atlanta, GA|         33.749|       -84.38798|     30.44332|     -91.18747|   82.0| 48.13333333333333|\n",
            "|   ATL|           OH|  Atlanta, GA|         33.749|       -84.38798|     40.60843|     -75.49018|    8.0|              16.5|\n",
            "|   ATL|           OO|  Atlanta, GA|         33.749|       -84.38798|     33.52066|     -86.80249|   31.0|               0.0|\n",
            "|   ATL|           OO|  Atlanta, GA|         33.749|       -84.38798|      39.1911|    -106.81754|   81.0|13.571428571428571|\n",
            "|   ATW|           OH| Appleton, WI|       44.26193|       -88.41538|       33.749|     -84.38798|   70.0|             46.25|\n",
            "|   AUS|           DL|   Austin, TX|       30.26715|       -97.74306|       33.749|     -84.38798|   96.0| 22.71904761904762|\n",
            "|   AUS|           OH|   Austin, TX|       30.26715|       -97.74306|       33.749|     -84.38798|   90.0|             43.64|\n",
            "+------+-------------+-------------+---------------+----------------+-------------+--------------+-------+------------------+\n",
            "only showing top 20 rows\n",
            "\n",
            "--- 3.4336135387420654 seconds ---\n"
          ],
          "name": "stdout"
        }
      ]
    },
    {
      "cell_type": "code",
      "metadata": {
        "id": "QfvIwCCChuvc"
      },
      "source": [
        "# you can even cache a large lookup table.\n",
        "spark.catalog.cacheTable('lookup_geo')"
      ],
      "execution_count": 61,
      "outputs": []
    },
    {
      "cell_type": "code",
      "metadata": {
        "colab": {
          "base_uri": "https://localhost:8080/"
        },
        "id": "KTVXEGx49Zpc",
        "outputId": "04475c75-a223-428a-82ac-7ed867a271f6"
      },
      "source": [
        "# check that your table is cached \n",
        "spark.catalog.isCached(\"lookup_geo\")"
      ],
      "execution_count": 62,
      "outputs": [
        {
          "output_type": "execute_result",
          "data": {
            "text/plain": [
              "True"
            ]
          },
          "metadata": {
            "tags": []
          },
          "execution_count": 62
        }
      ]
    },
    {
      "cell_type": "code",
      "metadata": {
        "colab": {
          "base_uri": "https://localhost:8080/"
        },
        "id": "j1_TiB5B8uTU",
        "outputId": "fc3c75e7-a0ed-4904-ce16-22b775a2f8b9"
      },
      "source": [
        "spark.sql('''select count(*) from lookup_geo''').show()"
      ],
      "execution_count": 60,
      "outputs": [
        {
          "output_type": "stream",
          "text": [
            "+--------+\n",
            "|count(1)|\n",
            "+--------+\n",
            "|  196643|\n",
            "+--------+\n",
            "\n"
          ],
          "name": "stdout"
        }
      ]
    },
    {
      "cell_type": "code",
      "metadata": {
        "id": "31NhqcGgh7HG",
        "colab": {
          "base_uri": "https://localhost:8080/"
        },
        "outputId": "ed0c646f-9c32-4874-9015-d4bc39a5abd7"
      },
      "source": [
        "# Run 5 - caching one of the lookups\n",
        "#Note the runtime\n",
        "start_time = time.time()\n",
        "\n",
        "spark.sql(\"\"\"\n",
        "with allColumns\n",
        "(select \n",
        "a.Year,\n",
        "a.Month,\n",
        "a.DayofMonth,\n",
        "a.DayOfWeek,\n",
        "a.DepTime,\n",
        "a.CRSDepTime,\n",
        "a.ArrTime,\n",
        "a.CRSArrTime,\n",
        "a.UniqueCarrier,\n",
        "a.FlightNum,\n",
        "a.TailNum,\n",
        "a.ActualElapsedTime,\n",
        "a.CRSElapsedTime,\n",
        "a.AirTime,\n",
        "a.ArrDelay,\n",
        "a.DepDelay,\n",
        "a.Origin,\n",
        "b.City as Origin_City,\n",
        "geo.latitude as Origin_latitude,\n",
        "geo.longitude as Origin_longitude,\n",
        "a.Dest,\n",
        "c.City as Dest_City,\n",
        "geo_dest.latitude as Dest_latitude,\n",
        "geo_dest.longitude as Dest_longitude,\n",
        "a.Distance,\n",
        "a.TaxiIn,\n",
        "a.TaxiOut,\n",
        "a.Cancelled,\n",
        "a.CancellationCode,\n",
        "a.Diverted,\n",
        "a.CarrierDelay,\n",
        "a.WeatherDelay,\n",
        "a.NASDelay,\n",
        "a.SecurityDelay,\n",
        "a.LateAircraftDelay from  delayed a \n",
        "  inner join lookup_city b\n",
        "    on a.Origin=b.airportCode\n",
        "  inner join lookup_city c\n",
        "    on a.Dest=c.airportCode\n",
        "  inner join lookup_geo geo\n",
        "on split(b.City,',')[0]=geo.name\n",
        "     and trim(split(b.City,',')[1])=geo.admin1_code\n",
        "  inner join lookup_geo geo_dest\n",
        "    on c.City=concat(geo_dest.name,', ',geo_dest.admin1_code)\n",
        ")\n",
        "select Origin, UniqueCarrier, Origin_City, Origin_latitude, Origin_Longitude, Dest_latitude, Dest_longitude, max(DepDelay) as delayed, avg(CarrierDelay) avgCarrierDelay \n",
        "from allColumns \n",
        "group by Origin, UniqueCarrier, Origin_City, Origin_latitude, Origin_Longitude, Dest_latitude, Dest_longitude\"\"\").show()\n",
        "\n",
        "print(\"--- %s seconds ---\" % (time.time() - start_time))"
      ],
      "execution_count": 80,
      "outputs": [
        {
          "output_type": "stream",
          "text": [
            "+------+-------------+-------------+---------------+----------------+-------------+--------------+-------+------------------+\n",
            "|Origin|UniqueCarrier|  Origin_City|Origin_latitude|Origin_Longitude|Dest_latitude|Dest_longitude|delayed|   avgCarrierDelay|\n",
            "+------+-------------+-------------+---------------+----------------+-------------+--------------+-------+------------------+\n",
            "|   ABE|           OO|Allentown, PA|       40.60843|       -75.49018|     33.52066|     -86.80249|   11.0|              null|\n",
            "|   ALB|           OH|   Albany, NY|       42.65258|       -73.75623|     42.35843|     -71.05977|   55.0|               0.0|\n",
            "|   ALB|           WN|   Albany, NY|       42.65258|       -73.75623|     39.29038|     -76.61219|   99.0| 8.203647416413373|\n",
            "|   ASE|           OO|    Aspen, CO|        39.1911|      -106.81754|       33.749|     -84.38798|   82.0|               6.0|\n",
            "|   ATL|           9E|  Atlanta, GA|         33.749|       -84.38798|     33.52066|     -86.80249|   94.0|15.083333333333334|\n",
            "|   ATL|           9E|  Atlanta, GA|         33.749|       -84.38798|     39.29038|     -76.61219|    6.0|              null|\n",
            "|   ATL|           DL|  Atlanta, GA|         33.749|       -84.38798|     30.26715|     -97.74306|   99.0| 20.12719298245614|\n",
            "|   ATL|           DL|  Atlanta, GA|         33.749|       -84.38798|     33.52066|     -86.80249|   98.0|            19.856|\n",
            "|   ATL|           DL|  Atlanta, GA|         33.749|       -84.38798|     41.08144|     -81.51901|    7.0| 17.11111111111111|\n",
            "|   ATL|           DL|  Atlanta, GA|         33.749|       -84.38798|     61.21806|    -149.90028|    9.0|             25.75|\n",
            "|   ATL|           EV|  Atlanta, GA|         33.749|       -84.38798|     39.29038|     -76.61219|   82.0|              17.6|\n",
            "|   ATL|           EV|  Atlanta, GA|         33.749|       -84.38798|     39.36415|     -74.42306|    9.0|  46.1578947368421|\n",
            "|   ATL|           EV|  Atlanta, GA|         33.749|       -84.38798|     41.08144|     -81.51901|   99.0| 30.99437148217636|\n",
            "|   ATL|           OH|  Atlanta, GA|         33.749|       -84.38798|     30.44332|     -91.18747|   82.0| 48.13333333333333|\n",
            "|   ATL|           OH|  Atlanta, GA|         33.749|       -84.38798|     40.60843|     -75.49018|    8.0|              16.5|\n",
            "|   ATL|           OO|  Atlanta, GA|         33.749|       -84.38798|     33.52066|     -86.80249|   31.0|               0.0|\n",
            "|   ATL|           OO|  Atlanta, GA|         33.749|       -84.38798|      39.1911|    -106.81754|   81.0|13.571428571428571|\n",
            "|   ATW|           OH| Appleton, WI|       44.26193|       -88.41538|       33.749|     -84.38798|   70.0|             46.25|\n",
            "|   AUS|           DL|   Austin, TX|       30.26715|       -97.74306|       33.749|     -84.38798|   96.0| 22.71904761904762|\n",
            "|   AUS|           OH|   Austin, TX|       30.26715|       -97.74306|       33.749|     -84.38798|   90.0|             43.64|\n",
            "+------+-------------+-------------+---------------+----------------+-------------+--------------+-------+------------------+\n",
            "only showing top 20 rows\n",
            "\n",
            "--- 2.0630810260772705 seconds ---\n"
          ],
          "name": "stdout"
        }
      ]
    },
    {
      "cell_type": "code",
      "metadata": {
        "colab": {
          "base_uri": "https://localhost:8080/"
        },
        "id": "RDO8GpNZe7gc",
        "outputId": "2497839a-1fe6-4116-fb49-aa04b550ce59"
      },
      "source": [
        "# run 6 - remove unnecesary columns from the SQL\n",
        "# Note the runtime\n",
        "start_time = time.time()\n",
        "\n",
        "spark.sql(\"\"\"\n",
        "with allColumns\n",
        "(select \n",
        "a.UniqueCarrier,\n",
        "a.DepDelay,\n",
        "a.Origin,\n",
        "b.City as Origin_City,\n",
        "geo.latitude as Origin_latitude,\n",
        "geo.longitude as Origin_longitude,\n",
        "a.Dest,\n",
        "c.City as Dest_City,\n",
        "geo_dest.latitude as Dest_latitude,\n",
        "geo_dest.longitude as Dest_longitude,\n",
        "a.CarrierDelay,\n",
        "a.LateAircraftDelay from  delayed a \n",
        "  inner join lookup_city b\n",
        "    on a.Origin=b.airportCode\n",
        "  inner join lookup_city c\n",
        "    on a.Dest=c.airportCode\n",
        "  inner join lookup_geo geo\n",
        "on split(b.City,',')[0]=geo.name\n",
        "     and trim(split(b.City,',')[1])=geo.admin1_code\n",
        "  inner join lookup_geo geo_dest\n",
        "    on c.City=concat(geo_dest.name,', ',geo_dest.admin1_code)\n",
        ")\n",
        "select UniqueCarrier, Origin_City, Dest_latitude, Dest_longitude, max(DepDelay) as delayed, avg(CarrierDelay) avgCarrierDelay \n",
        "from allColumns \n",
        "group by UniqueCarrier, Origin_City, Dest_latitude, Dest_longitude\n",
        "\"\"\").show()\n",
        "\n",
        "print(\"--- %s seconds ---\" % (time.time() - start_time))"
      ],
      "execution_count": 81,
      "outputs": [
        {
          "output_type": "stream",
          "text": [
            "+-------------+---------------+-------------+--------------+-------+------------------+\n",
            "|UniqueCarrier|    Origin_City|Dest_latitude|Dest_longitude|delayed|   avgCarrierDelay|\n",
            "+-------------+---------------+-------------+--------------+-------+------------------+\n",
            "|           9E|    Atlanta, GA|     33.52066|     -86.80249|   94.0|15.083333333333334|\n",
            "|           9E|  Baltimore, MD|       33.749|     -84.38798|    8.0| 7.466666666666667|\n",
            "|           9E|     Bangor, ME|       33.749|     -84.38798|    8.0|              null|\n",
            "|           9E| Birmingham, AL|       33.749|     -84.38798|   99.0| 10.23076923076923|\n",
            "|           AS|     Barrow, AK|     61.21806|    -149.90028|   97.0| 4.483516483516484|\n",
            "|           DL|    Atlanta, GA|     41.08144|     -81.51901|    7.0| 17.11111111111111|\n",
            "|           DL|  Baltimore, MD|       33.749|     -84.38798|   99.0|25.518234165067177|\n",
            "|           DL|    Bozeman, MT|       33.749|     -84.38798|   81.0|            18.125|\n",
            "|           EV|      Akron, OH|       33.749|     -84.38798|   99.0|28.156941649899398|\n",
            "|           EV|     Albany, GA|       33.749|     -84.38798|   97.0|  26.4811320754717|\n",
            "|           EV|    Atlanta, GA|     31.31129|     -92.44514|   99.0| 28.81025641025641|\n",
            "|           EV|    Atlanta, GA|     39.29038|     -76.61219|   82.0|              17.6|\n",
            "|           EV| Birmingham, AL|       33.749|     -84.38798|   96.0| 17.04794520547945|\n",
            "|           FL|      Akron, OH|       33.749|     -84.38798|   97.0| 9.670682730923694|\n",
            "|           FL|Bloomington, IL|       33.749|     -84.38798|   98.0| 8.437158469945356|\n",
            "|           OH|     Albany, NY|     42.35843|     -71.05977|   55.0|               0.0|\n",
            "|           OH|   Appleton, WI|       33.749|     -84.38798|   70.0|             46.25|\n",
            "|           OH|    Atlanta, GA|     30.26715|     -97.74306|   97.0| 40.42245989304813|\n",
            "|           OH|    Atlanta, GA|     33.52066|     -86.80249|   95.0| 21.97142857142857|\n",
            "|           OH|    Atlanta, GA|     40.60843|     -75.49018|    8.0|              16.5|\n",
            "+-------------+---------------+-------------+--------------+-------+------------------+\n",
            "only showing top 20 rows\n",
            "\n",
            "--- 2.0094122886657715 seconds ---\n"
          ],
          "name": "stdout"
        }
      ]
    },
    {
      "cell_type": "code",
      "metadata": {
        "colab": {
          "base_uri": "https://localhost:8080/"
        },
        "id": "sqv6QyN2FjTf",
        "outputId": "afd1dfc4-3830-4048-b451-7a21161308b7"
      },
      "source": [
        "spark.sql('''select city, airportCode from lookup_city where country = \"USA\" ''').show()"
      ],
      "execution_count": 95,
      "outputs": [
        {
          "output_type": "stream",
          "text": [
            "+---------------+--------------------+-----------+\n",
            "|           City|             country|airportCode|\n",
            "+---------------+--------------------+-----------+\n",
            "|           Aden|               Yemen|        ADE|\n",
            "|   Ban Me Thuot|             Vietnam|        BMV|\n",
            "|      Abu Dhabi|United Arab Emirates|        AUH|\n",
            "|     Alpena, MI|                 USA|        APN|\n",
            "|   Aberdeen, SD|                 USA|        ABR|\n",
            "|    Atlanta, GA|                 USA|        ATL|\n",
            "|      Akron, OH|                 USA|        CAK|\n",
            "|     Albany, GA|                 USA|        ABY|\n",
            "|Albuquerque, NM|                 USA|        ABQ|\n",
            "|      Aspen, CO|                 USA|        ASE|\n",
            "|     Athens, GA|                 USA|        AHN|\n",
            "|    Alamosa, CO|                 USA|        ALS|\n",
            "|  Anchorage, AK|                 USA|        ANC|\n",
            "|     Albany, NY|                 USA|        ALB|\n",
            "| Alexandria, LA|                 USA|        AEX|\n",
            "|  Allentown, PA|                 USA|        ABE|\n",
            "|   Alliance, NE|                 USA|        AIA|\n",
            "|    Abilene, TX|                 USA|        ABI|\n",
            "|    Altoona, PA|                 USA|        AOO|\n",
            "|   Amarillo, TX|                 USA|        AMA|\n",
            "+---------------+--------------------+-----------+\n",
            "only showing top 20 rows\n",
            "\n"
          ],
          "name": "stdout"
        }
      ]
    },
    {
      "cell_type": "code",
      "metadata": {
        "id": "_gmJ1ryJF6Tm"
      },
      "source": [
        ""
      ],
      "execution_count": null,
      "outputs": []
    },
    {
      "cell_type": "markdown",
      "metadata": {
        "id": "-VBsxWESFwPH"
      },
      "source": [
        ""
      ]
    },
    {
      "cell_type": "code",
      "metadata": {
        "colab": {
          "base_uri": "https://localhost:8080/"
        },
        "id": "bl4WnpzdfZb4",
        "outputId": "7c8ca179-f056-49bf-a51f-16c709ea1513"
      },
      "source": [
        "# run 7 - filter the lookup tables in the SQL\n",
        "# Note the runtime\n",
        "start_time = time.time()\n",
        "\n",
        "spark.sql(\"\"\" \n",
        "with lookup_city_filtered as (\n",
        "  select \n",
        "  City, \n",
        "  airportCode \n",
        "  from lookup_city where country = \"USA\" \n",
        "),\n",
        "\n",
        "lookup_geo_filtered as (\n",
        "  select \n",
        "    name, \n",
        "    admin1_code, \n",
        "    latitude, \n",
        "    longitude \n",
        "    from lookup_geo where country_code = \"US\"),\n",
        "\n",
        "allColumns as\n",
        "(select \n",
        "a.UniqueCarrier,\n",
        "a.DepDelay,\n",
        "a.Origin,\n",
        "b.City as Origin_City,\n",
        "geo.latitude as Origin_latitude,\n",
        "geo.longitude as Origin_longitude,\n",
        "a.Dest,\n",
        "c.City as Dest_City,\n",
        "geo_dest.latitude as Dest_latitude,\n",
        "geo_dest.longitude as Dest_longitude,\n",
        "a.CarrierDelay,\n",
        "a.LateAircraftDelay from  delayed a \n",
        "  inner join lookup_city_filtered b\n",
        "    on a.Origin=b.airportCode\n",
        "  inner join lookup_city_filtered c\n",
        "    on a.Dest=c.airportCode\n",
        "  inner join lookup_geo_filtered geo\n",
        "on split(b.City,',')[0]=geo.name\n",
        "     and trim(split(b.City,',')[1])=geo.admin1_code\n",
        "  inner join lookup_geo_filtered geo_dest\n",
        "    on c.City=concat(geo_dest.name,', ',geo_dest.admin1_code)\n",
        ")\n",
        "select UniqueCarrier, Origin_City, Dest_latitude, Dest_longitude, max(DepDelay) as delayed, avg(CarrierDelay) avgCarrierDelay \n",
        "from allColumns \n",
        "group by UniqueCarrier, Origin_City, Dest_latitude, Dest_longitude\n",
        "\"\"\").show()\n",
        "\n",
        "print(\"--- %s seconds ---\" % (time.time() - start_time))"
      ],
      "execution_count": 98,
      "outputs": [
        {
          "output_type": "stream",
          "text": [
            "+-------------+---------------+-------------+--------------+-------+------------------+\n",
            "|UniqueCarrier|    Origin_City|Dest_latitude|Dest_longitude|delayed|   avgCarrierDelay|\n",
            "+-------------+---------------+-------------+--------------+-------+------------------+\n",
            "|           9E|    Atlanta, GA|     33.52066|     -86.80249|   94.0|15.083333333333334|\n",
            "|           9E|  Baltimore, MD|       33.749|     -84.38798|    8.0| 7.466666666666667|\n",
            "|           9E|     Bangor, ME|       33.749|     -84.38798|    8.0|              null|\n",
            "|           9E| Birmingham, AL|       33.749|     -84.38798|   99.0| 10.23076923076923|\n",
            "|           AS|     Barrow, AK|     61.21806|    -149.90028|   97.0| 4.483516483516484|\n",
            "|           DL|    Atlanta, GA|     41.08144|     -81.51901|    7.0| 17.11111111111111|\n",
            "|           DL|  Baltimore, MD|       33.749|     -84.38798|   99.0|25.518234165067177|\n",
            "|           DL|    Bozeman, MT|       33.749|     -84.38798|   81.0|            18.125|\n",
            "|           EV|      Akron, OH|       33.749|     -84.38798|   99.0|28.156941649899398|\n",
            "|           EV|     Albany, GA|       33.749|     -84.38798|   97.0|  26.4811320754717|\n",
            "|           EV|    Atlanta, GA|     31.31129|     -92.44514|   99.0| 28.81025641025641|\n",
            "|           EV|    Atlanta, GA|     39.29038|     -76.61219|   82.0|              17.6|\n",
            "|           EV| Birmingham, AL|       33.749|     -84.38798|   96.0| 17.04794520547945|\n",
            "|           FL|      Akron, OH|       33.749|     -84.38798|   97.0| 9.670682730923694|\n",
            "|           FL|Bloomington, IL|       33.749|     -84.38798|   98.0| 8.437158469945356|\n",
            "|           OH|     Albany, NY|     42.35843|     -71.05977|   55.0|               0.0|\n",
            "|           OH|   Appleton, WI|       33.749|     -84.38798|   70.0|             46.25|\n",
            "|           OH|    Atlanta, GA|     30.26715|     -97.74306|   97.0| 40.42245989304813|\n",
            "|           OH|    Atlanta, GA|     33.52066|     -86.80249|   95.0| 21.97142857142857|\n",
            "|           OH|    Atlanta, GA|     40.60843|     -75.49018|    8.0|              16.5|\n",
            "+-------------+---------------+-------------+--------------+-------+------------------+\n",
            "only showing top 20 rows\n",
            "\n",
            "--- 1.8793354034423828 seconds ---\n"
          ],
          "name": "stdout"
        }
      ]
    },
    {
      "cell_type": "code",
      "metadata": {
        "id": "yy6F4EZ4gfSP"
      },
      "source": [
        "#recreate the dataframes selecting only the columns you need, filtering the data before creating the view, then caching the views.\n",
        "# columns needed are 'UniqueCarrier','DepDelay','Origin','CarrierDelay','Dest' from the main table\n",
        "df_f = df.select(df.UniqueCarrier, df.DepDelay, df.Origin, df.CarrierDelay, df.Dest)\n",
        "# filter the df_lookup_city data prior to creating the view to only contain USA data\n",
        "df_lookup_city_f = df_lookup_city_name.filter(df_lookup_city_name.country == 'USA')\n",
        "# filter the df_lookup_geo data prior to creating the view to only contain US data and select only the columns you need to perform the lookup\n",
        "# fields from geo ('name','latitude','longitude','admin1_code')\n",
        "df_lookup_geo_f = df_lookup_geo.select(df_lookup_geo.name, df_lookup_geo.latitude, df_lookup_geo.longitude, df_lookup_geo.admin1_code).filter(df_lookup_geo.country_code == 'US')\n",
        "df_lookup_city_f.createOrReplaceTempView('lookup_city')\n",
        "df_lookup_geo_f.createOrReplaceTempView('lookup_geo')\n",
        "df_f.createOrReplaceTempView('delayed')\n",
        "spark.catalog.cacheTable('delayed')\n",
        "spark.catalog.cacheTable('lookup_geo')\n",
        "# spark.sql(\"cache table delayed\")\n",
        "# spark.sql(\"cache table lookup_geo\")"
      ],
      "execution_count": 102,
      "outputs": []
    },
    {
      "cell_type": "code",
      "metadata": {
        "colab": {
          "base_uri": "https://localhost:8080/"
        },
        "id": "9qrpZNCxNKw8",
        "outputId": "89902b7f-3753-4a5a-8be7-27ec5e14d9cc"
      },
      "source": [
        "# check that your table is cached \n",
        "spark.catalog.isCached(\"lookup_geo\")"
      ],
      "execution_count": 118,
      "outputs": [
        {
          "output_type": "execute_result",
          "data": {
            "text/plain": [
              "True"
            ]
          },
          "metadata": {
            "tags": []
          },
          "execution_count": 118
        }
      ]
    },
    {
      "cell_type": "code",
      "metadata": {
        "colab": {
          "base_uri": "https://localhost:8080/"
        },
        "id": "u67dBcv6Sl7K",
        "outputId": "287f234e-7cbd-4483-9572-0d376b519751"
      },
      "source": [
        "# run 8 - filtered lookup dataframes\n",
        "# Note the runtime\n",
        "start_time = time.time()\n",
        "spark.sql(\"\"\"\n",
        "with allColumns\n",
        "(select \n",
        "a.UniqueCarrier,\n",
        "a.DepDelay,\n",
        "a.Origin,\n",
        "b.City as Origin_City,\n",
        "geo.latitude as Origin_latitude,\n",
        "geo.longitude as Origin_longitude,\n",
        "a.Dest,\n",
        "c.City as Dest_City,\n",
        "geo_dest.latitude as Dest_latitude,\n",
        "geo_dest.longitude as Dest_longitude,\n",
        "a.CarrierDelay\n",
        "from  delayed a \n",
        "  inner join lookup_city b\n",
        "    on a.Origin=b.airportCode\n",
        "  inner join lookup_city c\n",
        "    on a.Dest=c.airportCode\n",
        "  inner join lookup_geo geo\n",
        "on split(b.City,',')[0]=geo.name\n",
        "     and trim(split(b.City,',')[1])=geo.admin1_code\n",
        "  inner join lookup_geo geo_dest\n",
        "    on c.City=concat(geo_dest.name,', ',geo_dest.admin1_code)\n",
        ")\n",
        "select UniqueCarrier, Origin_City, Dest_latitude, Dest_longitude, max(DepDelay) as delayed, avg(CarrierDelay) avgCarrierDelay \n",
        "from allColumns \n",
        "group by UniqueCarrier, Origin_City, Dest_latitude, Dest_longitude\n",
        "\"\"\").show()\n",
        "\n",
        "print(\"--- %s seconds ---\" % (time.time() - start_time))"
      ],
      "execution_count": 117,
      "outputs": [
        {
          "output_type": "stream",
          "text": [
            "+-------------+---------------+-------------+--------------+-------+------------------+\n",
            "|UniqueCarrier|    Origin_City|Dest_latitude|Dest_longitude|delayed|   avgCarrierDelay|\n",
            "+-------------+---------------+-------------+--------------+-------+------------------+\n",
            "|           9E|    Atlanta, GA|     33.52066|     -86.80249|   94.0|15.083333333333334|\n",
            "|           9E|  Baltimore, MD|       33.749|     -84.38798|    8.0| 7.466666666666667|\n",
            "|           9E|     Bangor, ME|       33.749|     -84.38798|    8.0|              null|\n",
            "|           9E| Birmingham, AL|       33.749|     -84.38798|   99.0| 10.23076923076923|\n",
            "|           AS|     Barrow, AK|     61.21806|    -149.90028|   97.0| 4.483516483516484|\n",
            "|           DL|    Atlanta, GA|     41.08144|     -81.51901|    7.0| 17.11111111111111|\n",
            "|           DL|  Baltimore, MD|       33.749|     -84.38798|   99.0|25.518234165067177|\n",
            "|           DL|    Bozeman, MT|       33.749|     -84.38798|   81.0|            18.125|\n",
            "|           EV|      Akron, OH|       33.749|     -84.38798|   99.0|28.156941649899398|\n",
            "|           EV|     Albany, GA|       33.749|     -84.38798|   97.0|  26.4811320754717|\n",
            "|           EV|    Atlanta, GA|     31.31129|     -92.44514|   99.0| 28.81025641025641|\n",
            "|           EV|    Atlanta, GA|     39.29038|     -76.61219|   82.0|              17.6|\n",
            "|           EV| Birmingham, AL|       33.749|     -84.38798|   96.0| 17.04794520547945|\n",
            "|           FL|      Akron, OH|       33.749|     -84.38798|   97.0| 9.670682730923694|\n",
            "|           FL|Bloomington, IL|       33.749|     -84.38798|   98.0| 8.437158469945356|\n",
            "|           OH|     Albany, NY|     42.35843|     -71.05977|   55.0|               0.0|\n",
            "|           OH|   Appleton, WI|       33.749|     -84.38798|   70.0|             46.25|\n",
            "|           OH|    Atlanta, GA|     30.26715|     -97.74306|   97.0| 40.42245989304813|\n",
            "|           OH|    Atlanta, GA|     33.52066|     -86.80249|   95.0| 21.97142857142857|\n",
            "|           OH|    Atlanta, GA|     40.60843|     -75.49018|    8.0|              16.5|\n",
            "+-------------+---------------+-------------+--------------+-------+------------------+\n",
            "only showing top 20 rows\n",
            "\n",
            "--- 1.4234998226165771 seconds ---\n"
          ],
          "name": "stdout"
        }
      ]
    },
    {
      "cell_type": "code",
      "metadata": {
        "id": "3P82CRVDxk7s"
      },
      "source": [
        "# Remember to uncache the table as soon as you are done.\n",
        "spark.catalog.uncacheTable(\"delayed\")\n",
        "spark.catalog.uncacheTable(\"lookup_geo\")"
      ],
      "execution_count": 121,
      "outputs": []
    },
    {
      "cell_type": "code",
      "metadata": {
        "colab": {
          "base_uri": "https://localhost:8080/"
        },
        "id": "aHEPdkk_x0Ep",
        "outputId": "1a3b22ce-b4c5-44fd-b3b2-1c4cdf5ab960"
      },
      "source": [
        "#Verify that the table is no longer cached\n",
        "if spark.catalog.isCached(\"delayed\") or spark.catalog.isCached(\"lookup_geo\"):\n",
        "  print(\"a table is till cached\")\n",
        "else:\n",
        "  print(\"all clear\")"
      ],
      "execution_count": 124,
      "outputs": [
        {
          "output_type": "stream",
          "text": [
            "all clear\n"
          ],
          "name": "stdout"
        }
      ]
    },
    {
      "cell_type": "code",
      "metadata": {
        "id": "3XLLlG2kx4s3"
      },
      "source": [
        ""
      ],
      "execution_count": null,
      "outputs": []
    }
  ]
}